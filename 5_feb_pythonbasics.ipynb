{
 "cells": [
  {
   "cell_type": "code",
   "execution_count": 1,
   "id": "761334e1-a48d-412a-857a-e344ac7bb913",
   "metadata": {},
   "outputs": [
    {
     "name": "stdout",
     "output_type": "stream",
     "text": [
      "10\n",
      "5\n"
     ]
    }
   ],
   "source": [
    "#swapping the varabiles without using temporary variable \n",
    "x = 5\n",
    "y = 10\n",
    "\n",
    "x, y = y, x\n",
    "print( x)\n",
    "print(y)"
   ]
  },
  {
   "cell_type": "code",
   "execution_count": 3,
   "id": "14a940fc-62c3-4311-978e-ac68d8bf55f4",
   "metadata": {},
   "outputs": [
    {
     "name": "stdin",
     "output_type": "stream",
     "text": [
      "Enter Length of the Rectangle:  10\n",
      "Enter Breadth of the Rectangle:  15\n"
     ]
    },
    {
     "name": "stdout",
     "output_type": "stream",
     "text": [
      "Area of rectangle is 150.0\n"
     ]
    }
   ],
   "source": [
    "#area of a rectangle\n",
    "l = float(input('Enter Length of the Rectangle: '))\n",
    "b = float(input('Enter Breadth of the Rectangle: '))\n",
    "area = l * b\n",
    "print('Area of rectangle is',area)"
   ]
  },
  {
   "cell_type": "code",
   "execution_count": 10,
   "id": "87ffa251-d1b6-42da-a54b-c439c1daa305",
   "metadata": {},
   "outputs": [
    {
     "name": "stdin",
     "output_type": "stream",
     "text": [
      "Enter the Temperature in Celsius 40\n"
     ]
    },
    {
     "name": "stdout",
     "output_type": "stream",
     "text": [
      "Temperature in Fahrenheit 104.0\n"
     ]
    }
   ],
   "source": [
    "#celsius to fahrenheit(temperature)\n",
    "celsius = int(input(\"Enter the Temperature in Celsius\"))\n",
    "fahrenheit = (1.8 * celsius) + 32\n",
    "print(\"Temperature in Fahrenheit\", fahrenheit)"
   ]
  },
  {
   "cell_type": "code",
   "execution_count": 11,
   "id": "4e1f1dfe-c622-4493-82e1-91b9315c5f2b",
   "metadata": {},
   "outputs": [
    {
     "name": "stdin",
     "output_type": "stream",
     "text": [
      "enter a string ravindrasai\n"
     ]
    },
    {
     "name": "stdout",
     "output_type": "stream",
     "text": [
      "11\n"
     ]
    }
   ],
   "source": [
    "a = str(input('enter a string'))\n",
    "b = len(a)\n",
    "c = print(b)"
   ]
  },
  {
   "cell_type": "code",
   "execution_count": 12,
   "id": "95ff6f11-c139-4bdc-890e-7170127c865b",
   "metadata": {},
   "outputs": [
    {
     "name": "stdin",
     "output_type": "stream",
     "text": [
      "enter the alphabets ravindrasai\n"
     ]
    },
    {
     "name": "stdout",
     "output_type": "stream",
     "text": [
      "5\n"
     ]
    }
   ],
   "source": [
    "string = str(input('enter the alphabets'))\n",
    "vowels = \"aeiouAEIOU\"\n",
    " \n",
    "count = sum(string.count(vowel) for vowel in vowels)\n",
    "print(count)"
   ]
  },
  {
   "cell_type": "code",
   "execution_count": 16,
   "id": "ca54ebfe-eca9-43c2-afff-2bb709c7deb8",
   "metadata": {},
   "outputs": [
    {
     "name": "stdout",
     "output_type": "stream",
     "text": [
      "iasardnivar\n"
     ]
    }
   ],
   "source": [
    "a = \"ravindrasai\"\n",
    "b = a[-1:-12:-1]\n",
    "print(b)"
   ]
  },
  {
   "cell_type": "code",
   "execution_count": 17,
   "id": "a401213a-e58a-4ca8-be48-29dee1807ae4",
   "metadata": {},
   "outputs": [
    {
     "name": "stdin",
     "output_type": "stream",
     "text": [
      "enter a character level\n"
     ]
    },
    {
     "name": "stdout",
     "output_type": "stream",
     "text": [
      "level is a palindrome.\n"
     ]
    }
   ],
   "source": [
    "def is_palindrome(s):\n",
    "    return s == s[::-1]\n",
    "\n",
    "# Example usage:\n",
    "input_str = input(\"enter a character\")\n",
    "if is_palindrome(input_str):\n",
    "    print(f\"{input_str} is a palindrome.\")\n",
    "else:\n",
    "    print(f\"{input_str} is not a palindrome.\")"
   ]
  },
  {
   "cell_type": "code",
   "execution_count": 19,
   "id": "8b2ee315-f4ca-492a-99ac-aac047a98b75",
   "metadata": {},
   "outputs": [
    {
     "name": "stdin",
     "output_type": "stream",
     "text": [
      "enter a character ra v in dr a sa i\n"
     ]
    },
    {
     "name": "stdout",
     "output_type": "stream",
     "text": [
      "ravindrasai\n"
     ]
    }
   ],
   "source": [
    "#removing space between strings\n",
    "a = input(\"enter a character\")\n",
    "\n",
    "# Remove spaces between strings\n",
    "b = a.replace(\" \", \"\")\n",
    "\n",
    "# Print the result\n",
    "print(b)"
   ]
  },
  {
   "cell_type": "code",
   "execution_count": null,
   "id": "05657229-1d8a-4023-acee-1d95e3291f48",
   "metadata": {},
   "outputs": [],
   "source": []
  }
 ],
 "metadata": {
  "kernelspec": {
   "display_name": "Python 3 (ipykernel)",
   "language": "python",
   "name": "python3"
  },
  "language_info": {
   "codemirror_mode": {
    "name": "ipython",
    "version": 3
   },
   "file_extension": ".py",
   "mimetype": "text/x-python",
   "name": "python",
   "nbconvert_exporter": "python",
   "pygments_lexer": "ipython3",
   "version": "3.10.8"
  }
 },
 "nbformat": 4,
 "nbformat_minor": 5
}
